{
 "metadata": {
  "name": "",
  "signature": "sha256:fc61c56b4f3ffb9bd4cbffe3d3b7eac61c4ebaf3b6b5337909385c0fa16388b3"
 },
 "nbformat": 3,
 "nbformat_minor": 0,
 "worksheets": [
  {
   "cells": [
    {
     "cell_type": "heading",
     "level": 1,
     "metadata": {},
     "source": [
      "L-HAPI (Lite-HAPI)\n"
     ]
    },
    {
     "cell_type": "markdown",
     "metadata": {},
     "source": [
      "This package is an attempt to rewrite HAPI in order to improve on the speed. The functionality are limited current, and focused for my project which aims to look at the effect of the error in the cross-section itself."
     ]
    },
    {
     "cell_type": "code",
     "collapsed": false,
     "input": [],
     "language": "python",
     "metadata": {},
     "outputs": []
    }
   ],
   "metadata": {}
  }
 ]
}